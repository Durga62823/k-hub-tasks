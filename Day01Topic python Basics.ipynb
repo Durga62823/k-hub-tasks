{
 "cells": [
  {
   "cell_type": "code",
   "execution_count": 1,
   "id": "2b1680af-667c-4894-b872-cfaa2878267c",
   "metadata": {},
   "outputs": [
    {
     "name": "stdout",
     "output_type": "stream",
     "text": [
      "I am a string\n",
      "Durga Prasad\n",
      "DURGA\n",
      "prasad\n",
      "I am prasad\n",
      "['Rahulannaa']\n",
      "Rahul dravid\n",
      "Welcome To My World\n",
      "Rahu\n",
      "6\n",
      "2\n",
      "True\n",
      "True\n",
      "tarun maya is Cool Guy\n"
     ]
    }
   ],
   "source": [
    "#String\n",
    "string = \"I am a string\"\n",
    "print(string)\n",
    "\n",
    "#String Concatenation\n",
    "first_name = \"Durga\"\n",
    "last_name = \"Prasad\"\n",
    "full_name = first_name + \" \" + last_name\n",
    "print(full_name)\n",
    "\n",
    "#String Methods - upper()\n",
    "text = \"Durga\"\n",
    "print(text.upper())\n",
    "\n",
    "#lower()\n",
    "text = \"prasad\"\n",
    "print(text.lower())\n",
    "\n",
    "#replace()\n",
    "sentence = \"I am durga\"\n",
    "print(sentence.replace(\"durga\", \"prasad\"))\n",
    "\n",
    "#split()\n",
    "data = \"Rahulannaa\"\n",
    "fruits = data.split(\",\")\n",
    "print(fruits)\n",
    "\n",
    "#capitalize()\n",
    "text = \"Rahul Dravid\"\n",
    "print(text.capitalize())\n",
    "\n",
    "#title()\n",
    "text = \"welcome to my world\"\n",
    "print(text.title())\n",
    "\n",
    "#strip()\n",
    "text = \"   Rahu   \"\n",
    "print(text.strip())\n",
    "\n",
    "#find()\n",
    "text = \"Rahul Swamy Siva Govind\"\n",
    "print(text.find(\"Swamy\"))\n",
    "\n",
    "#count()\n",
    "text = \"apple apple banana\"\n",
    "print(text.count(\"apple\"))\n",
    "\n",
    "#startswith() and endswith()\n",
    "text = \"hello world\"\n",
    "print(text.startswith(\"hello\"))\n",
    "print(text.endswith(\"world\"))\n",
    "\n",
    "#join()\n",
    "words = ['tarun maya', 'is', 'Cool Guy']\n",
    "sentence = \" \".join(words)\n",
    "print(sentence)"
   ]
  },
  {
   "cell_type": "markdown",
   "id": "168c01ef",
   "metadata": {},
   "source": [
    "Arithmetic Operations in python"
   ]
  },
  {
   "cell_type": "code",
   "execution_count": 2,
   "id": "6bae4671-8db7-4db5-a265-d3404a10dc1d",
   "metadata": {},
   "outputs": [
    {
     "name": "stdout",
     "output_type": "stream",
     "text": [
      "6\n",
      "2\n",
      "8\n",
      "2.0\n",
      "0\n",
      "16\n",
      "2\n"
     ]
    }
   ],
   "source": [
    "a = 4\n",
    "b = 2\n",
    "\n",
    "print(a + b)\n",
    "print(a - b)\n",
    "print(a * b)\n",
    "print(a / b)\n",
    "print(a % b)\n",
    "print(a ** b)\n",
    "print(a // b)"
   ]
  },
  {
   "cell_type": "markdown",
   "id": "5415989d",
   "metadata": {},
   "source": [
    "Relational Operators"
   ]
  },
  {
   "cell_type": "code",
   "execution_count": 3,
   "id": "8dd780f9-b51b-423f-b7fd-cda13fcf2df4",
   "metadata": {},
   "outputs": [
    {
     "name": "stdout",
     "output_type": "stream",
     "text": [
      "False\n",
      "True\n",
      "False\n",
      "True\n",
      "False\n",
      "True\n"
     ]
    }
   ],
   "source": [
    "x = 5\n",
    "y = 8\n",
    "\n",
    "print(x == y)\n",
    "print(x != y)\n",
    "print(x > y)\n",
    "print(x < y)\n",
    "print(x >= y)\n",
    "print(x <= y)"
   ]
  },
  {
   "cell_type": "markdown",
   "id": "b307ac85",
   "metadata": {},
   "source": [
    "Assignment Operators"
   ]
  },
  {
   "cell_type": "code",
   "execution_count": 4,
   "id": "0a91b9dc-2ad0-4971-868b-137dbf31eb25",
   "metadata": {},
   "outputs": [
    {
     "name": "stdout",
     "output_type": "stream",
     "text": [
      "7\n",
      "6\n",
      "18\n",
      "9.0\n",
      "1.0\n",
      "0.0\n",
      "0.0\n"
     ]
    }
   ],
   "source": [
    "x = 5\n",
    "\n",
    "x += 2\n",
    "print(x)\n",
    "\n",
    "x -= 1\n",
    "print(x)\n",
    "\n",
    "x *= 3\n",
    "print(x)\n",
    "\n",
    "x /= 2\n",
    "print(x)\n",
    "\n",
    "x %= 4\n",
    "print(x)\n",
    "\n",
    "x //= 2\n",
    "print(x)\n",
    "\n",
    "x **= 3\n",
    "print(x)"
   ]
  },
  {
   "cell_type": "markdown",
   "id": "5d5a85d2",
   "metadata": {},
   "source": [
    "Boolean operators"
   ]
  },
  {
   "cell_type": "code",
   "execution_count": 5,
   "id": "ceda77f0-5c0a-4cdd-b5d8-ad36a3df750f",
   "metadata": {},
   "outputs": [
    {
     "name": "stdout",
     "output_type": "stream",
     "text": [
      "False\n",
      "True\n",
      "False\n"
     ]
    }
   ],
   "source": [
    "a = True\n",
    "b = False\n",
    "\n",
    "print(a and b)\n",
    "print(a or b)\n",
    "print(not a)"
   ]
  },
  {
   "cell_type": "markdown",
   "id": "e89117c6",
   "metadata": {},
   "source": [
    "Bitwise Operators in python"
   ]
  },
  {
   "cell_type": "code",
   "execution_count": 6,
   "id": "fa5661d5-e26f-450e-b667-db6d47b1c972",
   "metadata": {},
   "outputs": [
    {
     "name": "stdout",
     "output_type": "stream",
     "text": [
      "1\n",
      "7\n",
      "6\n",
      "-6\n",
      "10\n",
      "2\n"
     ]
    }
   ],
   "source": [
    "x = 5\n",
    "y = 3 \n",
    "\n",
    "print(x & y)\n",
    "print(x | y)\n",
    "print(x ^ y)\n",
    "print(~x)\n",
    "print(x << 1)\n",
    "print(x >> 1)"
   ]
  },
  {
   "cell_type": "markdown",
   "id": "d0134eb2",
   "metadata": {},
   "source": [
    "Identity Operators"
   ]
  },
  {
   "cell_type": "code",
   "execution_count": 7,
   "id": "fe540e55-e742-4ba9-9502-9ab3bc2166fb",
   "metadata": {},
   "outputs": [
    {
     "name": "stdout",
     "output_type": "stream",
     "text": [
      "True\n",
      "False\n",
      "True\n"
     ]
    }
   ],
   "source": [
    "a = [1, 2]\n",
    "b = a\n",
    "c = [1, 2]\n",
    "\n",
    "print(a is b)\n",
    "print(a is c)\n",
    "print(a is not c)"
   ]
  },
  {
   "cell_type": "markdown",
   "id": "dec9d40e",
   "metadata": {},
   "source": [
    "Membership Operators"
   ]
  },
  {
   "cell_type": "code",
   "execution_count": 8,
   "id": "f2c6708f-d55a-4730-9998-87ea71873868",
   "metadata": {},
   "outputs": [
    {
     "name": "stdout",
     "output_type": "stream",
     "text": [
      "True\n",
      "False\n"
     ]
    }
   ],
   "source": [
    "names = [\"tarun\", \"Swamy\", \"Siva\", \"Govind\"]\n",
    "\n",
    "print(\"tarun\" in names)\n",
    "print(\"Siva\" not in names)"
   ]
  },
  {
   "cell_type": "code",
   "execution_count": 9,
   "id": "93fa7063-a698-47a3-b43d-5ca286baea32",
   "metadata": {},
   "outputs": [
    {
     "name": "stdout",
     "output_type": "stream",
     "text": [
      "True\n",
      "False\n"
     ]
    }
   ],
   "source": [
    "is_active = True\n",
    "is_logged_in = False\n",
    "\n",
    "print(is_active)\n",
    "print(is_logged_in)"
   ]
  },
  {
   "cell_type": "markdown",
   "id": "4bab9e27",
   "metadata": {},
   "source": [
    "Lists – Ordered, mutable, allows duplicates"
   ]
  },
  {
   "cell_type": "code",
   "execution_count": 10,
   "id": "65a790a4-a58c-49a0-91b2-3c643bb7c928",
   "metadata": {},
   "outputs": [
    {
     "name": "stdout",
     "output_type": "stream",
     "text": [
      "apple\n",
      "['apple', 'orange', 'cherry']\n",
      "['apple', 'orange', 'cherry', 'grape']\n",
      "['apple', 'kiwi', 'orange', 'cherry', 'grape']\n",
      "['kiwi', 'orange', 'cherry', 'grape']\n",
      "['kiwi', 'orange', 'cherry']\n",
      "['orange', 'cherry']\n"
     ]
    }
   ],
   "source": [
    "fruits = [\"apple\", \"banana\", \"cherry\"]\n",
    "\n",
    "print(fruits[0])\n",
    "\n",
    "fruits[1] = \"orange\"\n",
    "print(fruits)\n",
    "\n",
    "fruits.append(\"grape\")\n",
    "print(fruits)\n",
    "\n",
    "fruits.insert(1, \"kiwi\")\n",
    "print(fruits)\n",
    "\n",
    "fruits.remove(\"apple\")\n",
    "print(fruits)\n",
    "\n",
    "last = fruits.pop()\n",
    "print(fruits)\n",
    "\n",
    "print(fruits[1:3])"
   ]
  },
  {
   "cell_type": "markdown",
   "id": "eb9afad0",
   "metadata": {},
   "source": [
    "Common List Methods"
   ]
  },
  {
   "cell_type": "code",
   "execution_count": 11,
   "id": "cbab3122-3f30-4a4b-9bdf-9cd28e274f56",
   "metadata": {},
   "outputs": [
    {
     "name": "stdout",
     "output_type": "stream",
     "text": [
      "['apple', 'banana', 'cherry']\n",
      "['apple', 'banana', 'cherry', 'mango']\n",
      "['apple', 'kiwi', 'banana', 'cherry', 'mango']\n",
      "['apple', 'kiwi', 'cherry', 'mango']\n",
      "['apple', 'kiwi', 'cherry']\n",
      "['apple', 'cherry', 'kiwi']\n",
      "['kiwi', 'cherry', 'apple']\n",
      "[]\n"
     ]
    }
   ],
   "source": [
    "fruits = [\"apple\", \"banana\", \"cherry\"]\n",
    "print(fruits)\n",
    "\n",
    "fruits.append(\"mango\") \n",
    "print(fruits)\n",
    "\n",
    "fruits.insert(1, \"kiwi\")\n",
    "print(fruits)\n",
    "\n",
    "fruits.remove(\"banana\")\n",
    "print(fruits)\n",
    "\n",
    "fruits.pop()\n",
    "print(fruits)\n",
    "\n",
    "fruits.sort()\n",
    "print(fruits)\n",
    "\n",
    "fruits.reverse()\n",
    "print(fruits)\n",
    "\n",
    "fruits.clear()\n",
    "print(fruits)"
   ]
  },
  {
   "cell_type": "markdown",
   "id": "3b003d90",
   "metadata": {},
   "source": [
    "Tuples – Ordered, immutable, allows duplicates"
   ]
  },
  {
   "cell_type": "code",
   "execution_count": 12,
   "id": "93b969b1-7f8a-4d87-a9eb-58cf8f7e13bd",
   "metadata": {},
   "outputs": [
    {
     "name": "stdout",
     "output_type": "stream",
     "text": [
      "red\n",
      "1\n",
      "1\n",
      "red green blue\n",
      "2\n",
      "<class 'tuple'>\n"
     ]
    }
   ],
   "source": [
    "colors = (\"red\", \"green\", \"blue\")\n",
    "\n",
    "print(colors[0])\n",
    "\n",
    "print(colors.count(\"red\"))\n",
    "\n",
    "print(colors.index(\"green\"))\n",
    "\n",
    "r, g, b = colors\n",
    "print(r, g, b)\n",
    "\n",
    "nested = ((1, 2), (3, 4))\n",
    "print(nested[0][1])\n",
    "\n",
    "name = (\"hello\",)\n",
    "print(type(name))"
   ]
  },
  {
   "cell_type": "markdown",
   "id": "bce614a5",
   "metadata": {},
   "source": [
    "Common Tuple Methods"
   ]
  },
  {
   "cell_type": "code",
   "execution_count": 13,
   "id": "1abb76c4-b037-41b9-814e-17c41376d83d",
   "metadata": {},
   "outputs": [
    {
     "name": "stdout",
     "output_type": "stream",
     "text": [
      "1\n",
      "2\n"
     ]
    }
   ],
   "source": [
    "colors = (\"red\", \"green\", \"blue\")\n",
    "n=colors.count(\"green\")\n",
    "print(n)\n",
    "n=colors.index(\"blue\")\n",
    "print(n)"
   ]
  },
  {
   "cell_type": "markdown",
   "id": "c3a616bb",
   "metadata": {},
   "source": [
    "Sets – Unordered, mutable, no duplicates"
   ]
  },
  {
   "cell_type": "code",
   "execution_count": 14,
   "id": "94649b9f-1bfd-410d-9afa-7083c2a22233",
   "metadata": {},
   "outputs": [
    {
     "name": "stdout",
     "output_type": "stream",
     "text": [
      "{1, 2, 3, 4, 5}\n",
      "{1, 3, 4, 5}\n",
      "{1, 2, 3}\n",
      "{2}\n",
      "{1}\n"
     ]
    }
   ],
   "source": [
    "numbers = {1, 2, 3, 4}\n",
    "\n",
    "numbers.add(5)\n",
    "print(numbers)\n",
    "\n",
    "numbers.remove(2)\n",
    "print(numbers)\n",
    "\n",
    "# union\n",
    "a = {1, 2}\n",
    "b = {2, 3}\n",
    "print(a.union(b))\n",
    "\n",
    "# intersection\n",
    "print(a.intersection(b)) \n",
    "\n",
    "# difference\n",
    "print(a.difference(b))"
   ]
  },
  {
   "cell_type": "markdown",
   "id": "270c08b6",
   "metadata": {},
   "source": [
    "Common Set Methods"
   ]
  },
  {
   "cell_type": "code",
   "execution_count": 15,
   "id": "1195239c-e1e1-4b34-83b8-5b61dc393028",
   "metadata": {},
   "outputs": [
    {
     "name": "stdout",
     "output_type": "stream",
     "text": [
      "{1, 2, 3, 4}\n",
      "{1, 3, 4}\n",
      "{1, 3, 4}\n",
      "{3, 4}\n",
      "set()\n"
     ]
    }
   ],
   "source": [
    "s = {1, 2, 3}\n",
    "\n",
    "s.add(4)\n",
    "print(s)\n",
    "\n",
    "s.remove(2)\n",
    "print(s)\n",
    "\n",
    "s.discard(10) \n",
    "print(s)\n",
    "\n",
    "s.pop()\n",
    "print(s)\n",
    "\n",
    "s.clear()\n",
    "print(s)"
   ]
  },
  {
   "cell_type": "markdown",
   "id": "01efa832",
   "metadata": {},
   "source": [
    "conditional statement"
   ]
  },
  {
   "cell_type": "code",
   "execution_count": 16,
   "id": "e277ece4-f660-41da-9db2-b8ccab2f0342",
   "metadata": {},
   "outputs": [
    {
     "name": "stdout",
     "output_type": "stream",
     "text": [
      "x is greater than 5\n"
     ]
    }
   ],
   "source": [
    "x = 10\n",
    "if x > 5:\n",
    "    print(\"x is greater than 5\")"
   ]
  },
  {
   "cell_type": "markdown",
   "id": "0049ed7d",
   "metadata": {},
   "source": [
    "if-elif-else Statement"
   ]
  },
  {
   "cell_type": "code",
   "execution_count": 17,
   "id": "d5cd47d6-b4ce-46a8-8438-299f22dd2032",
   "metadata": {},
   "outputs": [
    {
     "name": "stdout",
     "output_type": "stream",
     "text": [
      "You cannot vote\n"
     ]
    }
   ],
   "source": [
    "age = 16\n",
    "if age >= 18:\n",
    "    print(\"You can vote\")\n",
    "else:\n",
    "    print(\"You cannot vote\")"
   ]
  },
  {
   "cell_type": "code",
   "execution_count": 18,
   "id": "e0cb96bc-87f6-47a8-848d-54ad3bac7ad6",
   "metadata": {},
   "outputs": [
    {
     "name": "stdout",
     "output_type": "stream",
     "text": [
      "Grade B\n"
     ]
    }
   ],
   "source": [
    "score = 85\n",
    "if score >= 90:\n",
    "    print(\"Grade A\")\n",
    "elif score >= 75:\n",
    "    print(\"Grade B\")\n",
    "elif score >= 60:\n",
    "    print(\"Grade C\")\n",
    "else:\n",
    "    print(\"Grade D\")"
   ]
  },
  {
   "cell_type": "markdown",
   "id": "3f827916",
   "metadata": {},
   "source": [
    "Nested if Statement"
   ]
  },
  {
   "cell_type": "code",
   "execution_count": 19,
   "id": "3f1d945d-c42f-4bc0-8efc-9458aeacd60b",
   "metadata": {},
   "outputs": [
    {
     "name": "stdout",
     "output_type": "stream",
     "text": [
      "Positive even number\n"
     ]
    }
   ],
   "source": [
    "num = 10\n",
    "if num > 0:\n",
    "    if num % 2 == 0:\n",
    "        print(\"Positive even number\")\n",
    "    else:\n",
    "        print(\"Positive odd number\")\n",
    "else:\n",
    "    print(\"Not a positive number\")"
   ]
  },
  {
   "cell_type": "code",
   "execution_count": 20,
   "id": "cfa055fe-9a57-47d2-9263-a9a95f74709a",
   "metadata": {},
   "outputs": [
    {
     "name": "stdout",
     "output_type": "stream",
     "text": [
      "Thursday\n"
     ]
    }
   ],
   "source": [
    "day = 4\n",
    "match day:\n",
    "    case 1:\n",
    "        print(\"Monday\")\n",
    "    case 2:\n",
    "        print(\"Tuesday\")\n",
    "    case 3:\n",
    "        print(\"Wednesday\")\n",
    "    case 4:\n",
    "        print(\"Thursday\")\n",
    "    case 5:\n",
    "        print(\"Friday\")\n",
    "    case 6:\n",
    "        print(\"Saturday\")\n",
    "    case 7:\n",
    "        print(\"Sunday\")\n",
    "    case _:\n",
    "        print(\"Invalid day\")"
   ]
  },
  {
   "cell_type": "markdown",
   "id": "afd7122e",
   "metadata": {},
   "source": []
  },
  {
   "cell_type": "code",
   "execution_count": 21,
   "id": "215c60ae-06ab-4dac-ae63-176f5a2d9b86",
   "metadata": {},
   "outputs": [
    {
     "name": "stdout",
     "output_type": "stream",
     "text": [
      "durga\n",
      "name durga\n",
      "age 22\n",
      "grade A\n",
      "True\n",
      "0\n"
     ]
    }
   ],
   "source": [
    "student = {\"name\": \"durga\", \"age\": 21, \"course\": \"MERN\"}\n",
    "\n",
    "# Access value by key\n",
    "print(student[\"name\"])\n",
    "\n",
    "# Add new key-value pair\n",
    "student[\"grade\"] = \"A\"\n",
    "\n",
    "# Update existing value\n",
    "student[\"age\"] = 22\n",
    "\n",
    "# Remove key\n",
    "student.pop(\"course\")\n",
    "\n",
    "#LOOP\n",
    "for key, value in student.items():\n",
    "    print(key, value)\n",
    "\n",
    "# Check if key exists\n",
    "print(\"name\" in student)\n",
    "\n",
    "# Get value with default\n",
    "print(student.get(\"marks\", 0))"
   ]
  },
  {
   "cell_type": "code",
   "execution_count": 22,
   "id": "7c0b6776-ce4d-4a32-ab4f-c5d700651fad",
   "metadata": {},
   "outputs": [
    {
     "name": "stdout",
     "output_type": "stream",
     "text": [
      "{'name': 'durga', 'age': 21}\n",
      "{'name': 'durga', 'age': 21}\n",
      "{'name': 'durga', 'age': 21}\n",
      "{'name': 'durga', 'age': 21}\n",
      "{'name': 'durga', 'age': 21}\n",
      "{'age': 21}\n",
      "{}\n"
     ]
    }
   ],
   "source": [
    "student = {\"name\": \"durga\", \"age\": 21}\n",
    "\n",
    "student.get(\"age\")\n",
    "print(student)\n",
    "\n",
    "student.keys()\n",
    "print(student)\n",
    "\n",
    "student.values()\n",
    "print(student)\n",
    "\n",
    "student.items()\n",
    "print(student)\n",
    "\n",
    "student.update({\"age\": 21})\n",
    "print(student)\n",
    "\n",
    "student.pop(\"name\")\n",
    "print(student)\n",
    "\n",
    "student.clear()\n",
    "print(student)"
   ]
  }
 ],
 "metadata": {
  "kernelspec": {
   "display_name": "Python 3",
   "language": "python",
   "name": "python3"
  },
  "language_info": {
   "codemirror_mode": {
    "name": "ipython",
    "version": 3
   },
   "file_extension": ".py",
   "mimetype": "text/x-python",
   "name": "python",
   "nbconvert_exporter": "python",
   "pygments_lexer": "ipython3",
   "version": "3.12.2"
  }
 },
 "nbformat": 4,
 "nbformat_minor": 5
}
